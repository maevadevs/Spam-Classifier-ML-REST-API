{
 "cells": [
  {
   "cell_type": "markdown",
   "id": "cafe24e7",
   "metadata": {},
   "source": [
    "# Download Datasets"
   ]
  },
  {
   "cell_type": "markdown",
   "id": "34396f1b",
   "metadata": {},
   "source": [
    "In this project, we are using the following datasets from UCI:\n",
    "\n",
    "- [SMS Spam Collection Data Set](https://archive.ics.uci.edu/ml/datasets/SMS+Spam+Collection)\n",
    "- [YouTube Spam Collection Data Set](https://archive.ics.uci.edu/ml/datasets/YouTube+Spam+Collection)\n",
    "\n",
    "We will use the following automation to download those datasets"
   ]
  },
  {
   "cell_type": "code",
   "execution_count": 1,
   "id": "908295fe",
   "metadata": {},
   "outputs": [],
   "source": [
    "# Dependencies\n",
    "import os\n",
    "import sys"
   ]
  },
  {
   "cell_type": "code",
   "execution_count": 2,
   "id": "7e7365f1",
   "metadata": {},
   "outputs": [],
   "source": [
    "# Set Directory for this project to look for Custom Modules\n",
    "sys.path.append(os.path.join(\"..\", \"custom_funcs\"))\n",
    "\n",
    "# Custom module \n",
    "from datasets_funcs import get_and_unpack_dataset"
   ]
  },
  {
   "cell_type": "code",
   "execution_count": 3,
   "id": "bd15f666",
   "metadata": {},
   "outputs": [],
   "source": [
    "# Download and unpack the datasets\n",
    "datasets = [\n",
    "    (\"sms_spam_collection\", \"https://archive.ics.uci.edu/ml/machine-learning-databases/00228/smsspamcollection.zip\"),\n",
    "    (\"youtube_spam_collection\", \"https://archive.ics.uci.edu/ml/machine-learning-databases/00380/YouTube-Spam-Collection-v1.zip\")\n",
    "]\n",
    "for name, url in datasets:\n",
    "    get_and_unpack_dataset(dataset_name = name, dataset_src_url = url)"
   ]
  }
 ],
 "metadata": {
  "hide_input": false,
  "kernelspec": {
   "display_name": "Python 3 (ipykernel)",
   "language": "python",
   "name": "python3"
  },
  "language_info": {
   "codemirror_mode": {
    "name": "ipython",
    "version": 3
   },
   "file_extension": ".py",
   "mimetype": "text/x-python",
   "name": "python",
   "nbconvert_exporter": "python",
   "pygments_lexer": "ipython3",
   "version": "3.9.7"
  },
  "toc": {
   "base_numbering": 1,
   "nav_menu": {},
   "number_sections": true,
   "sideBar": true,
   "skip_h1_title": false,
   "title_cell": "Table of Contents",
   "title_sidebar": "Contents",
   "toc_cell": false,
   "toc_position": {},
   "toc_section_display": true,
   "toc_window_display": false
  },
  "varInspector": {
   "cols": {
    "lenName": 16,
    "lenType": 16,
    "lenVar": 40
   },
   "kernels_config": {
    "python": {
     "delete_cmd_postfix": "",
     "delete_cmd_prefix": "del ",
     "library": "var_list.py",
     "varRefreshCmd": "print(var_dic_list())"
    },
    "r": {
     "delete_cmd_postfix": ") ",
     "delete_cmd_prefix": "rm(",
     "library": "var_list.r",
     "varRefreshCmd": "cat(var_dic_list()) "
    }
   },
   "types_to_exclude": [
    "module",
    "function",
    "builtin_function_or_method",
    "instance",
    "_Feature"
   ],
   "window_display": false
  }
 },
 "nbformat": 4,
 "nbformat_minor": 5
}
