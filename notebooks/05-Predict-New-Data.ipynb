{
 "cells": [
  {
   "cell_type": "markdown",
   "id": "5e85b895",
   "metadata": {},
   "source": [
    "# Predict New Data"
   ]
  },
  {
   "cell_type": "markdown",
   "id": "4523c5ee",
   "metadata": {},
   "source": [
    "- After training our model, we can now use it to predict on new data\n",
    "- For that purpose, we will use the `predict` function we defined in the `prediction_funcs` module\n",
    "\n",
    "For training our ML model, we can use Google Colab as it offers Free GPUs for training models\n",
    "\n",
    "- Google Colab Notebook: https://colab.research.google.com/drive/1S3LjzvbDs1FK1UTYXRdMtHOsVGxvz9wM?usp=sharing\n",
    "- Reference Blog Post: https://www.codingforentrepreneurs.com/blog/build-a-spam-classifier-with-keras\n",
    "\n",
    "The matching code on the Google Colab Notebook is copied below as well"
   ]
  },
  {
   "cell_type": "code",
   "execution_count": 1,
   "id": "cc4c5982",
   "metadata": {},
   "outputs": [],
   "source": [
    "# Dependencies\n",
    "import json\n",
    "import os\n",
    "import pickle\n",
    "import sys\n",
    "from pathlib import Path\n",
    "# For importing a saved model\n",
    "from tensorflow import keras\n",
    "# For Tokenizing texts\n",
    "from tensorflow.keras.preprocessing.text import Tokenizer\n",
    "\n",
    "# Set Directory for this project to look for Custom Modules\n",
    "sys.path.append(os.path.join(\"..\", \"custom_funcs\"))\n",
    "\n",
    "# Custom modules\n",
    "from prediction_funcs import predict"
   ]
  },
  {
   "cell_type": "code",
   "execution_count": 2,
   "id": "2d593409",
   "metadata": {},
   "outputs": [],
   "source": [
    "# Datasets directories\n",
    "PROJ_DIR = Path().resolve().parent\n",
    "DATASETS_DIR = os.path.join(PROJ_DIR, \"datasets\")\n",
    "EXPORTS_DIR = os.path.join(DATASETS_DIR, \"exports\")\n",
    "METADATA_PKL_PATH = os.path.join(EXPORTS_DIR, \"spam-metadata.pkl\")\n",
    "TOKENIZER_JSON_PATH = os.path.join(EXPORTS_DIR, \"spam-tokenizer.json\")\n",
    "MODEL_EXPORT_PATH = os.path.join(EXPORTS_DIR,\"spam-ml-model.h5\")"
   ]
  },
  {
   "cell_type": "code",
   "execution_count": 3,
   "id": "59c333f7",
   "metadata": {},
   "outputs": [
    {
     "data": {
      "text/plain": [
       "{'X_train': array([[  0,   0,   0, ..., 151,  15,  11],\n",
       "        [  0,   0,   0, ...,  15,   5, 159],\n",
       "        [  0,   0,   0, ...,  72, 104,  83],\n",
       "        ...,\n",
       "        [  0,   0,   0, ...,  62, 220, 160],\n",
       "        [  0,   0,   0, ...,   0,   0,  47],\n",
       "        [  0,   0,   0, ...,   7, 102,  19]]),\n",
       " 'X_test': array([[  0,   0,   0, ...,   1, 152,  26],\n",
       "        [  0,   0,   0, ...,  71,  41, 149],\n",
       "        [  0,   0,   0, ...,  30,  34,   7],\n",
       "        ...,\n",
       "        [  0,   0,   0, ...,  11,   6,  13],\n",
       "        [  0,   0,   0, ...,   0,  76,  10],\n",
       "        [  0,   0,   0, ...,   8, 142, 185]]),\n",
       " 'y_train': array([[1., 0.],\n",
       "        [1., 0.],\n",
       "        [0., 1.],\n",
       "        ...,\n",
       "        [1., 0.],\n",
       "        [1., 0.],\n",
       "        [0., 1.]], dtype=float32),\n",
       " 'y_test': array([[0., 1.],\n",
       "        [1., 0.],\n",
       "        [0., 1.],\n",
       "        ...,\n",
       "        [1., 0.],\n",
       "        [1., 0.],\n",
       "        [1., 0.]], dtype=float32),\n",
       " 'max_num_words': 280,\n",
       " 'max_sequence_length': 300,\n",
       " 'labels_to_int_mapping': {'ham': 0, 'spam': 1},\n",
       " 'int_to_labels_mapping': {0: 'ham', 1: 'spam'}}"
      ]
     },
     "metadata": {},
     "output_type": "display_data"
    }
   ],
   "source": [
    "# Load the pickle file exported from previous step\n",
    "pickle_data = {}\n",
    "\n",
    "with open(METADATA_PKL_PATH, 'rb') as f:\n",
    "    pickle_data = pickle.load(f)\n",
    "    \n",
    "# Preview the data\n",
    "display(pickle_data)"
   ]
  },
  {
   "cell_type": "code",
   "execution_count": 4,
   "id": "329f0857",
   "metadata": {},
   "outputs": [],
   "source": [
    "# Transform pickle_data back to useful data\n",
    "MAX_NUM_WORDS = pickle_data[\"max_num_words\"]\n",
    "MAX_SEQUENCE_LENGTH = pickle_data[\"max_sequence_length\"]\n",
    "\n",
    "labels_to_int_mapping = pickle_data[\"labels_to_int_mapping\"]\n",
    "int_to_labels_mapping = pickle_data[\"int_to_labels_mapping\"]"
   ]
  },
  {
   "cell_type": "markdown",
   "id": "d9fbde5a",
   "metadata": {},
   "source": [
    "We need to import our pre-trained model to be used on the new prediction"
   ]
  },
  {
   "cell_type": "code",
   "execution_count": 5,
   "id": "5e689a66",
   "metadata": {},
   "outputs": [
    {
     "data": {
      "text/plain": [
       "<keras.engine.sequential.Sequential at 0x2a190fd3820>"
      ]
     },
     "metadata": {},
     "output_type": "display_data"
    }
   ],
   "source": [
    "# Import the pre-trained model\n",
    "model = keras.models.load_model(MODEL_EXPORT_PATH)\n",
    "display(model)"
   ]
  },
  {
   "cell_type": "markdown",
   "id": "b81b3d15",
   "metadata": {},
   "source": [
    "We also need to use our tokenizer"
   ]
  },
  {
   "cell_type": "code",
   "execution_count": 6,
   "id": "aa35f866",
   "metadata": {},
   "outputs": [
    {
     "data": {
      "text/plain": [
       "<keras_preprocessing.text.Tokenizer at 0x2a192b3ad60>"
      ]
     },
     "metadata": {},
     "output_type": "display_data"
    }
   ],
   "source": [
    "# Load our tokenizer\n",
    "with open(TOKENIZER_JSON_PATH) as json_file:\n",
    "    tokenizer_data = json.load(json_file)\n",
    "    tokenizer = Tokenizer(tokenizer_data)\n",
    "    \n",
    "display(tokenizer)"
   ]
  },
  {
   "cell_type": "markdown",
   "id": "99a07618",
   "metadata": {},
   "source": [
    "Now, we can run a prediction on a new string to see if it is a Spam email or not"
   ]
  },
  {
   "cell_type": "code",
   "execution_count": 7,
   "id": "005e4280",
   "metadata": {},
   "outputs": [
    {
     "data": {
      "text/plain": [
       "[{'ham': 0.95276815}, {'spam': 0.047231834}]"
      ]
     },
     "metadata": {},
     "output_type": "display_data"
    }
   ],
   "source": [
    "# New text to test\n",
    "new_text = \"Hello world! This is your daily dose of internet\"\n",
    "\n",
    "# Run prediction on it\n",
    "predictions = predict(\n",
    "    model,\n",
    "    new_text, \n",
    "    int_to_labels_mapping = int_to_labels_mapping,\n",
    "    tokenizer = tokenizer,\n",
    "    max_sequence_length = MAX_SEQUENCE_LENGTH\n",
    ")\n",
    "\n",
    "# Show result\n",
    "display(predictions)"
   ]
  },
  {
   "cell_type": "markdown",
   "id": "4ff76f62",
   "metadata": {},
   "source": [
    "For additional steps on putting the model into a cloud-based storage, check the details in Google Colab Notebook"
   ]
  }
 ],
 "metadata": {
  "hide_input": false,
  "kernelspec": {
   "display_name": "Python 3 (ipykernel)",
   "language": "python",
   "name": "python3"
  },
  "language_info": {
   "codemirror_mode": {
    "name": "ipython",
    "version": 3
   },
   "file_extension": ".py",
   "mimetype": "text/x-python",
   "name": "python",
   "nbconvert_exporter": "python",
   "pygments_lexer": "ipython3",
   "version": "3.9.7"
  },
  "toc": {
   "base_numbering": 1,
   "nav_menu": {},
   "number_sections": true,
   "sideBar": true,
   "skip_h1_title": false,
   "title_cell": "Table of Contents",
   "title_sidebar": "Contents",
   "toc_cell": false,
   "toc_position": {},
   "toc_section_display": true,
   "toc_window_display": false
  },
  "varInspector": {
   "cols": {
    "lenName": 16,
    "lenType": 16,
    "lenVar": 40
   },
   "kernels_config": {
    "python": {
     "delete_cmd_postfix": "",
     "delete_cmd_prefix": "del ",
     "library": "var_list.py",
     "varRefreshCmd": "print(var_dic_list())"
    },
    "r": {
     "delete_cmd_postfix": ") ",
     "delete_cmd_prefix": "rm(",
     "library": "var_list.r",
     "varRefreshCmd": "cat(var_dic_list()) "
    }
   },
   "types_to_exclude": [
    "module",
    "function",
    "builtin_function_or_method",
    "instance",
    "_Feature"
   ],
   "window_display": false
  }
 },
 "nbformat": 4,
 "nbformat_minor": 5
}
